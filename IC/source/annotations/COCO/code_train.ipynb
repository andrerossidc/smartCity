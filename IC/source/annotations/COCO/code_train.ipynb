{
 "cells": [
  {
   "cell_type": "markdown",
   "metadata": {},
   "source": [
    "PERSON_TRAIN"
   ]
  },
  {
   "cell_type": "code",
   "execution_count": 2,
   "metadata": {},
   "outputs": [
    {
     "name": "stdout",
     "output_type": "stream",
     "text": [
      "2000\n"
     ]
    }
   ],
   "source": [
    "#car = 3 / bicycle = 2 / person = 1 / truck = 8 / bus = 6 / motorcycle = 4\n",
    "import os, json, shutil, glob\n",
    "\n",
    "list_images_id_person = [] \n",
    "path = './annotations/instances_train2017.json'\n",
    "file = open(path)\n",
    "anns = json.load(file)\n",
    "key_anns = anns['annotations']\n",
    "key_images = anns['images']\n",
    "\n",
    "#loop para limpar a pasta\n",
    "diretorio = glob.glob('./images/train/person_train/*')\n",
    "for i in diretorio:\n",
    "    os.remove(i)\n",
    "\n",
    "#loop para encontrar os image_id de pessoas\n",
    "for i in key_anns:\n",
    "    if i['category_id'] == 1:\n",
    "        #if len(list_images_id_person) < 2000:\n",
    "        list_images_id_person.append(i['image_id'])\n",
    "\n",
    "print(len(list_images_id_person))\n",
    "\n",
    "#loop \n",
    "original = r'./images/train2017/'\n",
    "dst = r'./images/train/person_train/'\n",
    "for i in list_images_id_person:\n",
    "    for j in key_images:\n",
    "        if j['id'] == i:\n",
    "            src = original + str(j['file_name'])\n",
    "            shutil.copy(src, dst)"
   ]
  },
  {
   "cell_type": "markdown",
   "metadata": {},
   "source": [
    "BICYCLE_TRAIN"
   ]
  },
  {
   "cell_type": "code",
   "execution_count": 4,
   "metadata": {},
   "outputs": [
    {
     "name": "stdout",
     "output_type": "stream",
     "text": [
      "7113\n"
     ]
    }
   ],
   "source": [
    "#car = 3 / bicycle = 2 / person = 1 / truck = 8 / bus = 6 / motorcycle = 4\n",
    "import os, json, shutil, glob\n",
    "\n",
    "list_images_id_bicycle = [] \n",
    "path = './annotations/instances_train2017.json'\n",
    "file = open(path)\n",
    "anns = json.load(file)\n",
    "key_anns = anns['annotations']\n",
    "key_images = anns['images']\n",
    "\n",
    "#loop para limpar a pasta\n",
    "diretorio = glob.glob('./images/train/bicycle_train/*')\n",
    "for i in diretorio:\n",
    "    os.remove(i)\n",
    "\n",
    "#loop para encontrar os image_id de bicicletas\n",
    "for i in key_anns:\n",
    "    if i['category_id'] == 2:\n",
    "        #if len(list_images_id_bicycle) < 2000:\n",
    "        list_images_id_bicycle.append(i['image_id'])\n",
    "\n",
    "print(len(list_images_id_bicycle))\n",
    "\n",
    "#loop \n",
    "original = r'./images/train2017/'\n",
    "dst = r'./images/train/bicycle_train/'\n",
    "for i in list_images_id_bicycle:\n",
    "    for j in key_images:\n",
    "        if j['id'] == i:\n",
    "            src = original + str(j['file_name'])\n",
    "            shutil.copy(src, dst)"
   ]
  },
  {
   "cell_type": "markdown",
   "metadata": {},
   "source": [
    "CAR_TRAIN"
   ]
  },
  {
   "cell_type": "code",
   "execution_count": 1,
   "metadata": {},
   "outputs": [
    {
     "name": "stdout",
     "output_type": "stream",
     "text": [
      "4000\n"
     ]
    }
   ],
   "source": [
    "#car = 3 / bicycle = 2 / person = 1 / truck = 8 / bus = 6 / motorcycle = 4\n",
    "import os, json, shutil, glob\n",
    "\n",
    "list_images_id_car = [] \n",
    "path = './annotations/instances_train2017.json'\n",
    "file = open(path)\n",
    "anns = json.load(file)\n",
    "key_anns = anns['annotations']\n",
    "key_images = anns['images']\n",
    "\n",
    "#loop para limpar a pasta\n",
    "diretorio = glob.glob('./images/train/car_train/*')\n",
    "for i in diretorio:\n",
    "    os.remove(i)\n",
    "\n",
    "#loop para encontrar os image_id de carros\n",
    "for i in key_anns:\n",
    "    if i['category_id'] == 3:\n",
    "        if len(list_images_id_car) < 4000:\n",
    "            list_images_id_car.append(i['image_id'])\n",
    "\n",
    "print(len(list_images_id_car))\n",
    "\n",
    "#loop \n",
    "original = r'./images/train2017/'\n",
    "dst = r'./images/train/car_train/'\n",
    "for i in list_images_id_car:\n",
    "    for j in key_images:\n",
    "        if j['id'] == i:\n",
    "            src = original + str(j['file_name'])\n",
    "            shutil.copy(src, dst)"
   ]
  },
  {
   "cell_type": "markdown",
   "metadata": {},
   "source": [
    "MOTORCYCLE_TRAIN"
   ]
  },
  {
   "cell_type": "code",
   "execution_count": 7,
   "metadata": {},
   "outputs": [
    {
     "name": "stdout",
     "output_type": "stream",
     "text": [
      "8725\n"
     ]
    }
   ],
   "source": [
    "#car = 3 / bicycle = 2 / person = 1 / truck = 8 / bus = 6 / motorcycle = 4\n",
    "import os, json, shutil, glob\n",
    "\n",
    "list_images_id_motorcycle = [] \n",
    "path = './annotations/instances_train2017.json'\n",
    "file = open(path)\n",
    "anns = json.load(file)\n",
    "key_anns = anns['annotations']\n",
    "key_images = anns['images']\n",
    "\n",
    "#loop para limpar a pasta\n",
    "diretorio = glob.glob('./images/train/motorcycle_train/*')\n",
    "for i in diretorio:\n",
    "    os.remove(i)\n",
    "\n",
    "#loop para encontrar os image_id de pessoas\n",
    "for i in key_anns:\n",
    "    if i['category_id'] == 4:\n",
    "        #if len(list_images_id_motorcycle) < 2000:\n",
    "        list_images_id_motorcycle.append(i['image_id'])\n",
    "\n",
    "print(len(list_images_id_motorcycle))\n",
    "\n",
    "#loop \n",
    "original = r'./images/train2017/'\n",
    "dst = r'./images/train/motorcycle_train/'\n",
    "for i in list_images_id_motorcycle:\n",
    "    for j in key_images:\n",
    "        if j['id'] == i:\n",
    "            src = original + str(j['file_name'])\n",
    "            shutil.copy(src, dst)"
   ]
  },
  {
   "cell_type": "markdown",
   "metadata": {},
   "source": [
    "BUS_TRAIN"
   ]
  },
  {
   "cell_type": "code",
   "execution_count": 2,
   "metadata": {},
   "outputs": [
    {
     "name": "stdout",
     "output_type": "stream",
     "text": [
      "6069\n"
     ]
    }
   ],
   "source": [
    "#car = 3 / bicycle = 2 / person = 1 / truck = 8 / bus = 6 / motorcycle = 4\n",
    "import os, json, shutil, glob\n",
    "\n",
    "list_images_id_bus = [] \n",
    "path = './annotations/instances_train2017.json'\n",
    "file = open(path)\n",
    "anns = json.load(file)\n",
    "key_anns = anns['annotations']\n",
    "key_images = anns['images']\n",
    "\n",
    "#loop para limpar a pasta\n",
    "diretorio = glob.glob('./images/train/bus_train/*')\n",
    "for i in diretorio:\n",
    "    os.remove(i)\n",
    "\n",
    "#loop para encontrar os image_id de onibus\n",
    "for i in key_anns:\n",
    "    if i['category_id'] == 6:\n",
    "        #if len(list_images_id_motorcycle) < 2000:\n",
    "        list_images_id_bus.append(i['image_id'])\n",
    "\n",
    "print(len(list_images_id_bus))\n",
    "\n",
    "#loop \n",
    "original = r'./images/train2017/'\n",
    "dst = r'./images/train/bus_train/'\n",
    "for i in list_images_id_bus:\n",
    "    for j in key_images:\n",
    "        if j['id'] == i:\n",
    "            src = original + str(j['file_name'])\n",
    "            shutil.copy(src, dst)"
   ]
  },
  {
   "cell_type": "markdown",
   "metadata": {},
   "source": [
    "TRUCK_TRAIN"
   ]
  },
  {
   "cell_type": "code",
   "execution_count": 1,
   "metadata": {},
   "outputs": [
    {
     "name": "stdout",
     "output_type": "stream",
     "text": [
      "9973\n"
     ]
    }
   ],
   "source": [
    "#car = 3 / bicycle = 2 / person = 1 / truck = 8 / bus = 6 / motorcycle = 4\n",
    "import os, json, shutil, glob\n",
    "\n",
    "list_images_id_truck = [] \n",
    "path = './annotations/instances_train2017.json'\n",
    "file = open(path)\n",
    "anns = json.load(file)\n",
    "key_anns = anns['annotations']\n",
    "key_images = anns['images']\n",
    "\n",
    "#loop para limpar a pasta\n",
    "diretorio = glob.glob('./images/train/truck_train/*')\n",
    "for i in diretorio:\n",
    "    os.remove(i)\n",
    "\n",
    "#loop para encontrar os image_id de caminhões\n",
    "for i in key_anns:\n",
    "    if i['category_id'] == 8:\n",
    "        #if len(list_images_id_motorcycle) < 2000:\n",
    "        list_images_id_truck.append(i['image_id'])\n",
    "\n",
    "print(len(list_images_id_truck))\n",
    "\n",
    "#loop \n",
    "original = r'./images/train2017/'\n",
    "dst = r'./images/train/truck_train/'\n",
    "for i in list_images_id_truck:\n",
    "    for j in key_images:\n",
    "        if j['id'] == i:\n",
    "            src = original + str(j['file_name'])\n",
    "            shutil.copy(src, dst)"
   ]
  }
 ],
 "metadata": {
  "kernelspec": {
   "display_name": "Python 3.10.5 64-bit",
   "language": "python",
   "name": "python3"
  },
  "language_info": {
   "codemirror_mode": {
    "name": "ipython",
    "version": 3
   },
   "file_extension": ".py",
   "mimetype": "text/x-python",
   "name": "python",
   "nbconvert_exporter": "python",
   "pygments_lexer": "ipython3",
   "version": "3.10.5"
  },
  "orig_nbformat": 4,
  "vscode": {
   "interpreter": {
    "hash": "5722daad9755055b013a651651e76bfefcd0039befef69efb03fa00fbea6a530"
   }
  }
 },
 "nbformat": 4,
 "nbformat_minor": 2
}
