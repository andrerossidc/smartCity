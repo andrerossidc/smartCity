{
 "cells": [
  {
   "cell_type": "code",
   "execution_count": 24,
   "metadata": {},
   "outputs": [],
   "source": [
    "import json, os, shutil, glob\n",
    "arq = open(\"./annotations/instances_val2017.json\", \"r\")\n",
    "val = json.load(arq)\n",
    "\n",
    "ids_imgs = [] \n",
    "for i in range(len(val['images'])):\n",
    "    ids_imgs.append(val['images'][i]['id'])\n",
    "    \n",
    "tam_anot = len(val['annotations'])"
   ]
  },
  {
   "cell_type": "markdown",
   "metadata": {},
   "source": [
    "PERSON_VAL"
   ]
  },
  {
   "cell_type": "code",
   "execution_count": 38,
   "metadata": {},
   "outputs": [
    {
     "name": "stdout",
     "output_type": "stream",
     "text": [
      "2400\n"
     ]
    }
   ],
   "source": [
    "#car = 3 / bicycle = 2 / person = 1 / truck = 8 / bus = 6 / motorcycle = 4\n",
    "\n",
    "#loop para limpar a pasta\n",
    "diretorio = glob.glob('./images/val/person_val/*')\n",
    "for i in diretorio:\n",
    "    os.remove(i)\n",
    "\n",
    "qtde_annot = {}\n",
    "for id in ids_imgs:\n",
    "    qtde_annot[id] = 0\n",
    "    \n",
    "pessoa = qtde_annot.copy()\n",
    "pessoa\n",
    "\n",
    "for i in range(tam_anot):\n",
    "    qtde_annot[val['annotations'][i]['image_id']] += 1\n",
    "    if val['annotations'][i]['category_id']==1:\n",
    "        pessoa[val['annotations'][i]['image_id']] = 1\n",
    "      \n",
    "img_pessoa = []  \n",
    "cont = 0\n",
    "for k in qtde_annot.keys():\n",
    "    if pessoa[k]==1 and qtde_annot[k] <= 20 :\n",
    "        img_pessoa.append(k)\n",
    "        cont += 1\n",
    "\n",
    "print(cont)\n",
    "\n",
    "original = r'./images/val2017/'\n",
    "dst = r'./images/val/person_val/'\n",
    "for i in img_pessoa:\n",
    "    for j in val['images']:\n",
    "        if j['id'] == i:\n",
    "            src = original + str(j['file_name'])\n",
    "            shutil.copy(src, dst)"
   ]
  },
  {
   "cell_type": "markdown",
   "metadata": {},
   "source": [
    "BICYCLE_VAL"
   ]
  },
  {
   "cell_type": "code",
   "execution_count": 29,
   "metadata": {},
   "outputs": [
    {
     "name": "stdout",
     "output_type": "stream",
     "text": [
      "108\n"
     ]
    }
   ],
   "source": [
    "#car = 3 / bicycle = 2 / person = 1 / truck = 8 / bus = 6 / motorcycle = 4\n",
    "\n",
    "#loop para limpar a pasta\n",
    "diretorio = glob.glob('./images/val/bicycle_val/*')\n",
    "for i in diretorio:\n",
    "    os.remove(i)\n",
    "    \n",
    "qtde_annot = {}\n",
    "for id in ids_imgs:\n",
    "    qtde_annot[id] = 0\n",
    "    \n",
    "bicycle = qtde_annot.copy()\n",
    "bicycle\n",
    "\n",
    "for i in range(tam_anot):\n",
    "    qtde_annot[val['annotations'][i]['image_id']] += 1\n",
    "    if val['annotations'][i]['category_id']==2:\n",
    "        bicycle[val['annotations'][i]['image_id']] = 1\n",
    "      \n",
    "img_bicycle = []  \n",
    "cont = 0\n",
    "for k in qtde_annot.keys():\n",
    "    if bicycle[k]==1 and qtde_annot[k] <= 20 :\n",
    "        img_bicycle.append(k)\n",
    "        cont += 1\n",
    "\n",
    "print(cont)\n",
    "\n",
    "original = r'./images/val2017/'\n",
    "dst = r'./images/val/bicycle_val/'\n",
    "for i in img_bicycle:\n",
    "    for j in val['images']:\n",
    "        if j['id'] == i:\n",
    "            src = original + str(j['file_name'])\n",
    "            shutil.copy(src, dst)"
   ]
  },
  {
   "cell_type": "markdown",
   "metadata": {},
   "source": [
    "CAR_VAL"
   ]
  },
  {
   "cell_type": "code",
   "execution_count": 31,
   "metadata": {},
   "outputs": [
    {
     "name": "stdout",
     "output_type": "stream",
     "text": [
      "465\n"
     ]
    }
   ],
   "source": [
    "#car = 3 / bicycle = 2 / person = 1 / truck = 8 / bus = 6 / motorcycle = 4\n",
    "\n",
    "#loop para limpar a pasta\n",
    "diretorio = glob.glob('./images/val/car_val/*')\n",
    "for i in diretorio:\n",
    "    os.remove(i)\n",
    "\n",
    "qtde_annot = {}\n",
    "for id in ids_imgs:\n",
    "    qtde_annot[id] = 0\n",
    "    \n",
    "carro = qtde_annot.copy()\n",
    "carro\n",
    "\n",
    "for i in range(tam_anot):\n",
    "    qtde_annot[val['annotations'][i]['image_id']] += 1\n",
    "    if val['annotations'][i]['category_id']==3:\n",
    "        carro[val['annotations'][i]['image_id']] = 1\n",
    "      \n",
    "img_carro = []  \n",
    "cont = 0\n",
    "for k in qtde_annot.keys():\n",
    "    if carro[k]==1 and qtde_annot[k] <= 20 :\n",
    "        img_carro.append(k)\n",
    "        cont += 1\n",
    "\n",
    "print(cont)\n",
    "\n",
    "original = r'./images/val2017/'\n",
    "dst = r'./images/val/car_val/'\n",
    "for i in img_carro:\n",
    "    for j in val['images']:\n",
    "        if j['id'] == i:\n",
    "            src = original + str(j['file_name'])\n",
    "            shutil.copy(src, dst)"
   ]
  },
  {
   "cell_type": "markdown",
   "metadata": {},
   "source": [
    "MOTORCYCLE_VAL"
   ]
  },
  {
   "cell_type": "code",
   "execution_count": 32,
   "metadata": {},
   "outputs": [
    {
     "name": "stdout",
     "output_type": "stream",
     "text": [
      "129\n"
     ]
    }
   ],
   "source": [
    "#car = 3 / bicycle = 2 / person = 1 / truck = 8 / bus = 6 / motorcycle = 4\n",
    "\n",
    "#loop para limpar a pasta\n",
    "diretorio = glob.glob('./images/val/motorcycle_val/*')\n",
    "for i in diretorio:\n",
    "    os.remove(i)\n",
    "\n",
    "qtde_annot = {}\n",
    "for id in ids_imgs:\n",
    "    qtde_annot[id] = 0\n",
    "    \n",
    "moto = qtde_annot.copy()\n",
    "moto\n",
    "\n",
    "for i in range(tam_anot):\n",
    "    qtde_annot[val['annotations'][i]['image_id']] += 1\n",
    "    if val['annotations'][i]['category_id']==4:\n",
    "        moto[val['annotations'][i]['image_id']] = 1\n",
    "      \n",
    "img_moto = []  \n",
    "cont = 0\n",
    "for k in qtde_annot.keys():\n",
    "    if moto[k]==1 and qtde_annot[k] <= 20 :\n",
    "        img_moto.append(k)\n",
    "        cont += 1\n",
    "\n",
    "print(cont)\n",
    "\n",
    "original = r'./images/val2017/'\n",
    "dst = r'./images/val/motorcycle_val/'\n",
    "for i in img_moto:\n",
    "    for j in val['images']:\n",
    "        if j['id'] == i:\n",
    "            src = original + str(j['file_name'])\n",
    "            shutil.copy(src, dst)"
   ]
  },
  {
   "cell_type": "markdown",
   "metadata": {},
   "source": [
    "BUS_VAL"
   ]
  },
  {
   "cell_type": "code",
   "execution_count": 34,
   "metadata": {},
   "outputs": [
    {
     "name": "stdout",
     "output_type": "stream",
     "text": [
      "160\n"
     ]
    }
   ],
   "source": [
    "#car = 3 / bicycle = 2 / person = 1 / truck = 8 / bus = 6 / motorcycle = 4\n",
    "\n",
    "#loop para limpar a pasta\n",
    "diretorio = glob.glob('./images/val/bus_val/*')\n",
    "for i in diretorio:\n",
    "    os.remove(i)\n",
    "\n",
    "qtde_annot = {}\n",
    "for id in ids_imgs:\n",
    "    qtde_annot[id] = 0\n",
    "    \n",
    "onibus = qtde_annot.copy()\n",
    "onibus\n",
    "\n",
    "for i in range(tam_anot):\n",
    "    qtde_annot[val['annotations'][i]['image_id']] += 1\n",
    "    if val['annotations'][i]['category_id']==6:\n",
    "        onibus[val['annotations'][i]['image_id']] = 1\n",
    "      \n",
    "img_onibus = []  \n",
    "cont = 0\n",
    "for k in qtde_annot.keys():\n",
    "    if onibus[k]==1 and qtde_annot[k] <= 20 :\n",
    "        img_onibus.append(k)\n",
    "        cont += 1\n",
    "\n",
    "print(cont)\n",
    "\n",
    "original = r'./images/val2017/'\n",
    "dst = r'./images/val/bus_val/'\n",
    "for i in img_onibus:\n",
    "    for j in val['images']:\n",
    "        if j['id'] == i:\n",
    "            src = original + str(j['file_name'])\n",
    "            shutil.copy(src, dst)"
   ]
  },
  {
   "cell_type": "markdown",
   "metadata": {},
   "source": [
    "TRUCK_VAL"
   ]
  },
  {
   "cell_type": "code",
   "execution_count": 36,
   "metadata": {},
   "outputs": [
    {
     "name": "stdout",
     "output_type": "stream",
     "text": [
      "218\n"
     ]
    }
   ],
   "source": [
    "#car = 3 / bicycle = 2 / person = 1 / truck = 8 / bus = 6 / motorcycle = 4\n",
    "\n",
    "#loop para limpar a pasta\n",
    "diretorio = glob.glob('./images/val/truck_val/*')\n",
    "for i in diretorio:\n",
    "    os.remove(i)\n",
    "\n",
    "qtde_annot = {}\n",
    "for id in ids_imgs:\n",
    "    qtde_annot[id] = 0\n",
    "    \n",
    "onibus = qtde_annot.copy()\n",
    "onibus\n",
    "\n",
    "for i in range(tam_anot):\n",
    "    qtde_annot[val['annotations'][i]['image_id']] += 1\n",
    "    if val['annotations'][i]['category_id']==8:\n",
    "        onibus[val['annotations'][i]['image_id']] = 1\n",
    "      \n",
    "img_onibus = []  \n",
    "cont = 0\n",
    "for k in qtde_annot.keys():\n",
    "    if onibus[k]==1 and qtde_annot[k] <= 20 :\n",
    "        img_onibus.append(k)\n",
    "        cont += 1\n",
    "\n",
    "print(cont)\n",
    "\n",
    "original = r'./images/val2017/'\n",
    "dst = r'./images/val/truck_val/'\n",
    "for i in img_onibus:\n",
    "    for j in val['images']:\n",
    "        if j['id'] == i:\n",
    "            src = original + str(j['file_name'])\n",
    "            shutil.copy(src, dst)"
   ]
  }
 ],
 "metadata": {
  "kernelspec": {
   "display_name": "Python 3.10.5 64-bit",
   "language": "python",
   "name": "python3"
  },
  "language_info": {
   "codemirror_mode": {
    "name": "ipython",
    "version": 3
   },
   "file_extension": ".py",
   "mimetype": "text/x-python",
   "name": "python",
   "nbconvert_exporter": "python",
   "pygments_lexer": "ipython3",
   "version": "3.10.5"
  },
  "orig_nbformat": 4,
  "vscode": {
   "interpreter": {
    "hash": "5722daad9755055b013a651651e76bfefcd0039befef69efb03fa00fbea6a530"
   }
  }
 },
 "nbformat": 4,
 "nbformat_minor": 2
}
