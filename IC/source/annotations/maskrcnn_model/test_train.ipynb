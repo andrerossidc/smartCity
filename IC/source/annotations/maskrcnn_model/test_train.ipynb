{
 "cells": [
  {
   "attachments": {},
   "cell_type": "markdown",
   "metadata": {},
   "source": [
    "# Preparação de dados "
   ]
  },
  {
   "attachments": {},
   "cell_type": "markdown",
   "metadata": {},
   "source": [
    "Esses dados foram utilizados para uma breve previsão com o mask-rcnn\n",
    "\n",
    "obs: código feito para auxiliar na compreensão do dataset COCO e mask rcnn (básica previsão dos dados, com apenas uma imagem de exemplo)"
   ]
  },
  {
   "cell_type": "code",
   "execution_count": null,
   "metadata": {},
   "outputs": [],
   "source": [
    "import json\n",
    "import matplotlib.pyplot as plt \n",
    "import matplotlib.patches as patches\n",
    "import PIL \n",
    "from PIL import Image\n",
    "import os\n",
    "import cv2\n",
    "import urllib.request\n",
    "import glob\n",
    "import numpy as np\n",
    "import matplotlib.pyplot as plt\n",
    "\n",
    "\n"
   ]
  },
  {
   "attachments": {},
   "cell_type": "markdown",
   "metadata": {},
   "source": [
    "Lendo o json"
   ]
  },
  {
   "cell_type": "code",
   "execution_count": null,
   "metadata": {},
   "outputs": [],
   "source": [
    "path = open(\"./annotations/instances_train2017.json\", \"r\")\n",
    "anns = json.load(path)"
   ]
  },
  {
   "cell_type": "code",
   "execution_count": null,
   "metadata": {},
   "outputs": [],
   "source": [
    "print(anns['categories']['name'])"
   ]
  },
  {
   "attachments": {},
   "cell_type": "markdown",
   "metadata": {},
   "source": [
    "## Bicycle_train"
   ]
  },
  {
   "cell_type": "code",
   "execution_count": null,
   "metadata": {},
   "outputs": [],
   "source": [
    "files = glob.glob(\"./images/train/bicycle_train/*.jpg\")"
   ]
  },
  {
   "attachments": {},
   "cell_type": "markdown",
   "metadata": {},
   "source": [
    "Criando as variáveis:\n",
    "  - train_image_bicycle:   contém as imagens que vamos utilizar \n",
    "  - file_name_bicycle :    contém os nomes dos arquivos "
   ]
  },
  {
   "cell_type": "code",
   "execution_count": null,
   "metadata": {},
   "outputs": [],
   "source": [
    "train_image_bicycle = []\n",
    "filename_bicycle=[]\n",
    "\n",
    "#utilizando o for para percorrer a pasta bicycle_train e pegar o nome de cada imagem\n",
    "for myFile in files:\n",
    "    image = cv2.imread(myFile)\n",
    "    #convertendo as imagens para RGB\n",
    "    image = cv2.cvtColor(image, cv2.COLOR_BGR2RGB)\n",
    "    #adicionando a imagem na variável train_image_bicycle\n",
    "    train_image_bicycle.append(image)\n",
    "    #adicionando o nome da imagem no filename_bicycle\n",
    "    filename_bicycle.append(os.path.basename(myFile))\n",
    "\n",
    "train_image_bicycle = np.array(train_image_bicycle, dtype=object)\n",
    "train_image_bicycle.shape\n",
    "#plt.imshow(train_image[7])\n",
    "print(len(train_image_bicycle)) "
   ]
  },
  {
   "attachments": {},
   "cell_type": "markdown",
   "metadata": {},
   "source": [
    "Criando a variável:\n",
    " - id_image_bicycle = para obter o id da imagem contido em filename_bicycle"
   ]
  },
  {
   "cell_type": "code",
   "execution_count": null,
   "metadata": {},
   "outputs": [],
   "source": [
    "path = open(\"./annotations/instances_train2017.json\", \"r\")\n",
    "anns = json.load(path)\n",
    "print(anns)\n",
    "id_image_bicycle=[]\n",
    "\n",
    "#fazendo um loop que contem todas as anotações e adicionando em id_image apenas o id da imagem(image_id na anotação json)\n",
    "for i in range(len(anns['images'])):\n",
    "  #vendo todos os file_names de image\n",
    "  filename_bicycle = (anns['images'][i]['file_name'])\n",
    "\n",
    "  #pegando apenas o id da imagem\n",
    "  for j in filename_bicycle:\n",
    "    if filename_bicycle == j:\n",
    "      id_image_bicycle.append(anns['images'][i]['id'])\n",
    "\n",
    "print(id_image_bicycle)  "
   ]
  },
  {
   "attachments": {},
   "cell_type": "markdown",
   "metadata": {},
   "source": [
    "Criando a variável:\n",
    " - train_label_bicycle: que contém todas as anotações das imagens\n",
    "  \n",
    "      -> Obs: train_label_bicycle é um vetor que abriga um dicionário representando cada anotação"
   ]
  },
  {
   "cell_type": "code",
   "execution_count": null,
   "metadata": {},
   "outputs": [],
   "source": [
    "train_label_bicycle= []\n",
    "anotacoes = {}\n",
    "\n",
    "#Este for está percorrendo todas as anotações de treino\n",
    "for i in range(len(anns['annotations'])):\n",
    "    #Este percorre os ids das imagens\n",
    "    for j in id_image_bicycle:\n",
    "        #loop para ver se o image_id da anotação corresponde ao id da imagem\n",
    "        if (anns['annotations'][i]['image_id']) == j:\n",
    "            anotacoes = dict(anns['annotations'][i])\n",
    "            train_label_bicycle.append(anotacoes)\n",
    "      \n",
    "#print(train_label_bicycle)"
   ]
  },
  {
   "attachments": {},
   "cell_type": "markdown",
   "metadata": {},
   "source": [
    "Criando as variáveis:\n",
    " - bbox_bicycle: é um dicionário que contém os bbox presentes em cada imagem\n",
    " - id_cat_bicycle : é um dicionário que contém os ids das categorias de cada imagem\n",
    " - nome_cat_bicycle: é um dicionário que contém os nomes das categorias de cada imagem"
   ]
  },
  {
   "cell_type": "code",
   "execution_count": null,
   "metadata": {},
   "outputs": [],
   "source": [
    "bbox_bicycle       = {}\n",
    "id_cat_bicycle     = {}\n",
    "nome_cat_bicycle   = {}\n",
    "\n",
    "'''\n",
    "  uma imagem possui várias anotações, e elas estão em diferentes lugares do json,\n",
    "  e é possivel identificar qual anotação representa determinada img com o id\n",
    "  por isso será necessário dois \"for\":\n",
    "   - no 1° ele passa pelos id das imagens\n",
    "   - no 2° ele passa pelas anotações \n",
    "  dessa forma é possível deixar todas as informações das imagens juntas\n",
    "'''\n",
    "for id in id_image_bicycle:\n",
    "  #criando um vetor à cada inicio de um loop\n",
    "  bbox_vetor      = []\n",
    "  id_cat_vetor    = []\n",
    "  nome_cat_vetor  = []\n",
    "\n",
    "  for anot in train_label_bicycle:\n",
    "    if id == anot['image_id']:\n",
    "      #fazendo um vetor com todos os BBOX da img x\n",
    "      bbox_vetor.append(anot['bbox'])\n",
    "\n",
    "      #fazendo um vetor com todos os IDS DAS CATEGORIAS da img x\n",
    "      id_cat_vetor.append(int(anot['category_id']))\n",
    "      #print(idCategoria)\n",
    "\n",
    "      #fazendo um vetor com todos os NOMES DAS CATEGORIAS da img x\n",
    "    for x in range(len(id_cat_vetor)):\n",
    "      nome_cat_vetor.append(anns['categories'][x-1]['name'])\n",
    " \n",
    "\n",
    "  bbox_bicycle[id]     = tuple(bbox_vetor)\n",
    "  id_cat_bicycle[id]   = tuple(id_cat_vetor)\n",
    "  nome_cat_bicycle[id] = tuple(nome_cat_vetor)\n",
    "\n",
    "\n",
    "print((bbox_bicycle[74]))\n",
    "print((id_cat_bicycle[74]))\n",
    "print((nome_cat_bicycle[74]))"
   ]
  },
  {
   "attachments": {},
   "cell_type": "markdown",
   "metadata": {},
   "source": [
    "Aqui é apenas um teste para entender melhor como plotar a imagem com os bbox"
   ]
  },
  {
   "cell_type": "code",
   "execution_count": null,
   "metadata": {},
   "outputs": [],
   "source": [
    "images_path = './BD/images/train/bicycle_train/'\n",
    "#Colocando o id da imagem que quero que apareça e completando com zeros, até obter 12 digitos\n",
    "image_name = str(1722).zfill(12)+\".jpg\" \n",
    "image = Image.open(images_path+image_name)\n",
    "\n",
    "ax = plt.subplots(figsize=(10, 10))\n",
    "\n",
    "\n",
    "for coord in bbox_bicycle[1722]:\n",
    "  #fazendo a caixa do bbox\n",
    "  bb = patches.Rectangle((coord[0], coord[1]), coord[2], coord[3], linewidth=3, edgecolor=\"blue\", facecolor=\"None\")\n",
    "  ax.add_patch(bb)\n",
    "  print(bb)\n",
    "\n",
    "ax.imshow(image)\n",
    "plt.show()"
   ]
  },
  {
   "attachments": {},
   "cell_type": "markdown",
   "metadata": {},
   "source": [
    "treinando com mask-rcnn\n",
    "\n",
    "utilizando apenas uma imagem para melhor compreensão de como funciona este modelo"
   ]
  },
  {
   "cell_type": "code",
   "execution_count": null,
   "metadata": {},
   "outputs": [],
   "source": [
    "import mrcnn\n",
    "import mrcnn.config\n",
    "import mrcnn.model\n",
    "import mrcnn.visualize\n",
    "import cv2\n",
    "import os\n",
    "\n",
    "CLASS_NAMES = ['BG', 'person', 'bicycle', 'car', 'motorcycle', 'airplane', 'bus', 'train', 'truck', 'boat', 'traffic light', 'fire hydrant', 'stop sign', 'parking meter', 'bench', 'bird', 'cat', 'dog', 'horse', 'sheep', 'cow', 'elephant', 'bear', 'zebra', 'giraffe', 'backpack', 'umbrella', 'handbag', 'tie', 'suitcase', 'frisbee', 'skis', 'snowboard', 'sports ball', 'kite', 'baseball bat', 'baseball glove', 'skateboard', 'surfboard', 'tennis racket', 'bottle', 'wine glass', 'cup', 'fork', 'knife', 'spoon', 'bowl', 'banana', 'apple', 'sandwich', 'orange', 'broccoli', 'carrot', 'hot dog', 'pizza', 'donut', 'cake', 'chair', 'couch', 'potted plant', 'bed', 'dining table', 'toilet', 'tv', 'laptop', 'mouse', 'remote', 'keyboard', 'cell phone', 'microwave', 'oven', 'toaster', 'sink', 'refrigerator', 'book', 'clock', 'vase', 'scissors', 'teddy bear', 'hair drier', 'toothbrush']\n",
    "\n",
    "class SimpleConfig(mrcnn.config.Config):\n",
    "    NAME = \"coco_inference\"\n",
    "    \n",
    "    GPU_COUNT = 1\n",
    "    IMAGES_PER_GPU = 1\n",
    "\n",
    "    NUM_CLASSES = len(CLASS_NAMES)\n",
    "\n",
    "model = mrcnn.model.MaskRCNN(mode=\"inference\", \n",
    "                             config=SimpleConfig(),\n",
    "                             model_dir=os.getcwd())\n",
    "\n",
    "model.load_weights(filepath=\"mask_rcnn_coco.h5\", \n",
    "                   by_name=True)\n",
    "\n",
    "image = cv2.imread(\"000000000074.jpg\")\n",
    "image = cv2.cvtColor(image, cv2.COLOR_BGR2RGB)\n",
    "\n",
    "r = model.detect([image], verbose=0)\n",
    "\n",
    "r = r[0]\n",
    "\n",
    "'''\n",
    "rois: As caixas ao redor de cada objeto detectado.\n",
    "class_ids: os IDs de classe para os objetos.\n",
    "scores: As pontuações de classe para cada objeto.\n",
    "masks: As máscaras.\n",
    "\n",
    "'''\n",
    "\n",
    "#chamando a imagem para ser plotada\n",
    "mrcnn.visualize.display_instances(image=image, \n",
    "                                  boxes=r['rois'], \n",
    "                                  masks=r['masks'], \n",
    "                                  class_ids=r['class_ids'], \n",
    "                                  class_names=CLASS_NAMES, \n",
    "                                  scores=r['scores'])"
   ]
  },
  {
   "attachments": {},
   "cell_type": "markdown",
   "metadata": {},
   "source": [
    "# Bus_train"
   ]
  },
  {
   "cell_type": "code",
   "execution_count": null,
   "metadata": {},
   "outputs": [],
   "source": [
    "files = glob.glob(\"./BD/images/train/bus_train/*.jpg\")"
   ]
  },
  {
   "cell_type": "code",
   "execution_count": null,
   "metadata": {},
   "outputs": [],
   "source": [
    "train_image_bus = []\n",
    "filename_bus=[]\n",
    "\n",
    "#utilizando o for para percorrer a pasta bus_train e pegar o nome de cada imagem\n",
    "for myFile in files:\n",
    "    image = cv2.imread(myFile)\n",
    "    #convertendo as imagens para RGB\n",
    "    image = cv2.cvtColor(image, cv2.COLOR_BGR2RGB)\n",
    "    #adicionando a imagem na variável train_image_bus\n",
    "    train_image_bus.append(image)\n",
    "    #adicionando o nome da imagem no filename_bus\n",
    "    filename_bus.append(os.path.basename(myFile))\n",
    "\n",
    "train_image_bus = np.array(train_image_bus, dtype=object)\n",
    "train_image_bus.shape\n",
    "#plt.imshow(train_image_bus[7])\n",
    "print(len(train_image_bus)) "
   ]
  },
  {
   "cell_type": "code",
   "execution_count": null,
   "metadata": {},
   "outputs": [],
   "source": [
    "id_image_bus=[]\n",
    "\n",
    "#fazendo um loop que contem todas as anotações e adicionando em id_image apenas o id da imagem(image_id na anotação json)\n",
    "for i in range(len(anns['images'])):\n",
    "  #vendo todos os file_names de image\n",
    "    filename_bus = (anns['images'][i]['file_name'])\n",
    "\n",
    "    #pegando apenas o id da imagem\n",
    "    for j in filename_bus:\n",
    "      if filename_bus == j:\n",
    "          id_image_bus.append(anns['images'][i]['id'])\n",
    "\n",
    "#print(id_image_bus)  "
   ]
  },
  {
   "cell_type": "code",
   "execution_count": null,
   "metadata": {},
   "outputs": [],
   "source": [
    "train_label_bus= []\n",
    "anotacoes = {}\n",
    "\n",
    "#Este for está percorrendo todas as anotações de treino\n",
    "for i in range(len(anns['annotations'])):\n",
    "    #Este percorre os ids das imagens\n",
    "    for j in id_image_bus:\n",
    "        #loop para ver se o image_id da anotação corresponde ao id da imagem\n",
    "        if (anns['annotations'][i]['image_id']) == j:\n",
    "            anotacoes = dict(anns['annotations'][i])\n",
    "            train_label_bus.append(anotacoes)\n",
    "      \n",
    "#print(train_label_bus)"
   ]
  },
  {
   "cell_type": "code",
   "execution_count": null,
   "metadata": {},
   "outputs": [],
   "source": [
    "bbox_bus       = {}\n",
    "id_cat_bus     = {}\n",
    "nome_cat_bus   = {}\n",
    "\n",
    "'''\n",
    "  uma imagem possui várias anotações, e elas estão em diferentes lugares do json,\n",
    "  e é possivel identificar qual anotação representa determinada img com o id\n",
    "  por isso será necessário dois \"for\":\n",
    "   - no 1° ele passa pelos id das imagens\n",
    "   - no 2° ele passa pelas anotações \n",
    "  dessa forma é possível deixar todas as informações das imagens juntas\n",
    "'''\n",
    "for id in id_image_bus:\n",
    "  #criando um vetor à cada inicio de um loop\n",
    "  bbox_vetor      = []\n",
    "  id_cat_vetor    = []\n",
    "  nome_cat_vetor  = []\n",
    "\n",
    "  for anot in train_label_bus:\n",
    "    if id == anot['image_id']:\n",
    "      #fazendo um vetor com todos os BBOX da img x\n",
    "      bbox_vetor.append(anot['bbox'])\n",
    "\n",
    "      #fazendo um vetor com todos os IDS DAS CATEGORIAS da img x\n",
    "      id_cat_vetor.append(int(anot['category_id']))\n",
    "      #print(idCategoria)\n",
    "\n",
    "      #fazendo um vetor com todos os NOMES DAS CATEGORIAS da img x\n",
    "    for x in range(len(id_cat_vetor)):\n",
    "      nome_cat_vetor.append(anns['categories'][x-1]['name'])\n",
    " \n",
    "\n",
    "  bbox_bus[id]     = tuple(bbox_vetor)\n",
    "  id_cat_bus[id]   = tuple(id_cat_vetor)\n",
    "  nome_cat_bus[id] = tuple(nome_cat_vetor)\n",
    "\n",
    "\n",
    "print((bbox_bus[74]))\n",
    "print((id_cat_bus[74]))\n",
    "print((nome_cat_bus[74]))"
   ]
  },
  {
   "attachments": {},
   "cell_type": "markdown",
   "metadata": {},
   "source": [
    "# Car_train"
   ]
  },
  {
   "cell_type": "code",
   "execution_count": null,
   "metadata": {},
   "outputs": [],
   "source": [
    "files = glob.glob(\"./BD/images/train/car_train/*.jpg\")"
   ]
  },
  {
   "cell_type": "code",
   "execution_count": null,
   "metadata": {},
   "outputs": [],
   "source": [
    "train_image_car = []\n",
    "filename_car=[]\n",
    "\n",
    "#utilizando o for para percorrer a pasta car_train e pegar o nome de cada imagem\n",
    "for myFile in files:\n",
    "    image = cv2.imread(myFile)\n",
    "    #convertendo as imagens para RGB\n",
    "    image = cv2.cvtColor(image, cv2.COLOR_BGR2RGB)\n",
    "    #adicionando a imagem na variável train_image_car\n",
    "    train_image_car.append(image)\n",
    "    #adicionando o nome da imagem no filename_car\n",
    "    filename_car.append(os.path.basename(myFile))\n",
    "\n",
    "train_image_car = np.array(train_image_car, dtype=object)\n",
    "train_image_car.shape\n",
    "#plt.imshow(train_image_car[7])\n",
    "print(len(train_image_car)) "
   ]
  },
  {
   "cell_type": "code",
   "execution_count": null,
   "metadata": {},
   "outputs": [],
   "source": [
    "id_image_car=[]\n",
    "\n",
    "#fazendo um loop que contem todas as anotações e adicionando em id_image apenas o id da imagem(image_id na anotação json)\n",
    "for i in range(len(anns['images'])):\n",
    "  #vendo todos os file_names de image\n",
    "    filename_car = (anns['images'][i]['file_name'])\n",
    "\n",
    "    #pegando apenas o id da imagem\n",
    "    for j in filename_car:\n",
    "      if filename_car == j:\n",
    "          id_image_car.append(anns['images'][i]['id'])\n",
    "\n",
    "#print(id_image_car)  "
   ]
  },
  {
   "cell_type": "code",
   "execution_count": null,
   "metadata": {},
   "outputs": [],
   "source": [
    "train_label_car= []\n",
    "anotacoes = {}\n",
    "\n",
    "#Este for está percorrendo todas as anotações de treino\n",
    "for i in range(len(anns['annotations'])):\n",
    "    #Este percorre os ids das imagens\n",
    "    for j in id_image_car:\n",
    "        #loop para ver se o image_id da anotação corresponde ao id da imagem\n",
    "        if (anns['annotations'][i]['image_id']) == j:\n",
    "            anotacoes = dict(anns['annotations'][i])\n",
    "            train_label_car.append(anotacoes)\n",
    "      \n",
    "#print(train_label_car)"
   ]
  },
  {
   "cell_type": "code",
   "execution_count": null,
   "metadata": {},
   "outputs": [],
   "source": [
    "bbox_car       = {}\n",
    "id_cat_car     = {}\n",
    "nome_cat_car   = {}\n",
    "\n",
    "'''\n",
    "  uma imagem possui várias anotações, e elas estão em diferentes lugares do json,\n",
    "  e é possivel identificar qual anotação representa determinada img com o id\n",
    "  por isso será necessário dois \"for\":\n",
    "   - no 1° ele passa pelos id das imagens\n",
    "   - no 2° ele passa pelas anotações \n",
    "  dessa forma é possível deixar todas as informações das imagens juntas\n",
    "'''\n",
    "for id in id_image_car:\n",
    "  #criando um vetor à cada inicio de um loop\n",
    "  bbox_vetor      = []\n",
    "  id_cat_vetor    = []\n",
    "  nome_cat_vetor  = []\n",
    "\n",
    "  for anot in train_label_car:\n",
    "    if id == anot['image_id']:\n",
    "      #fazendo um vetor com todos os BBOX da img x\n",
    "      bbox_vetor.append(anot['bbox'])\n",
    "\n",
    "      #fazendo um vetor com todos os IDS DAS CATEGORIAS da img x\n",
    "      id_cat_vetor.append(int(anot['category_id']))\n",
    "      #print(idCategoria)\n",
    "\n",
    "      #fazendo um vetor com todos os NOMES DAS CATEGORIAS da img x\n",
    "    for x in range(len(id_cat_vetor)):\n",
    "      nome_cat_vetor.append(anns['categories'][x-1]['name'])\n",
    " \n",
    "\n",
    "  bbox_car[id]     = tuple(bbox_vetor)\n",
    "  id_cat_car[id]   = tuple(id_cat_vetor)\n",
    "  nome_cat_car[id] = tuple(nome_cat_vetor)\n",
    "\n",
    "\n",
    "print((bbox_car[74]))\n",
    "print((id_cat_car[74]))\n",
    "print((nome_cat_car[74]))"
   ]
  },
  {
   "attachments": {},
   "cell_type": "markdown",
   "metadata": {},
   "source": [
    "# Motorcycle_train"
   ]
  },
  {
   "cell_type": "code",
   "execution_count": null,
   "metadata": {},
   "outputs": [],
   "source": [
    "files = glob.glob(\"./BD/images/train/motorcycle_train/*.jpg\")"
   ]
  },
  {
   "cell_type": "code",
   "execution_count": null,
   "metadata": {},
   "outputs": [],
   "source": [
    "train_image_motorcycle = []\n",
    "filename_motorcycle=[]\n",
    "\n",
    "#utilizando o for para percorrer a pasta motorcycle_train e pegar o nome de cada imagem\n",
    "for myFile in files:\n",
    "    image = cv2.imread(myFile)\n",
    "    #convertendo as imagens para RGB\n",
    "    image = cv2.cvtColor(image, cv2.COLOR_BGR2RGB)\n",
    "    #adicionando a imagem na variável train_image_motorcycle\n",
    "    train_image_motorcycle.append(image)\n",
    "    #adicionando o nome da imagem no filename_motorcycle\n",
    "    filename_motorcycle.append(os.path.basename(myFile))\n",
    "\n",
    "train_image_motorcycle = np.array(train_image_motorcycle, dtype=object)\n",
    "train_image_motorcycle.shape\n",
    "#plt.imshow(train_image_motorcycle[7])\n",
    "print(len(train_image_motorcycle)) "
   ]
  },
  {
   "cell_type": "code",
   "execution_count": null,
   "metadata": {},
   "outputs": [],
   "source": [
    "id_image_motorcycle=[]\n",
    "\n",
    "#fazendo um loop que contem todas as anotações e adicionando em id_image apenas o id da imagem(image_id na anotação json)\n",
    "for i in range(len(anns['images'])):\n",
    "  #vendo todos os file_names de image\n",
    "    filename_motorcycle = (anns['images'][i]['file_name'])\n",
    "\n",
    "    #pegando apenas o id da imagem\n",
    "    for j in filename_motorcycle:\n",
    "      if filename_motorcycle == j:\n",
    "          id_image_motorcycle.append(anns['images'][i]['id'])\n",
    "\n",
    "#print(id_image_motorcycle)  "
   ]
  },
  {
   "cell_type": "code",
   "execution_count": null,
   "metadata": {},
   "outputs": [],
   "source": [
    "train_label_motorcycle= []\n",
    "anotacoes = {}\n",
    "\n",
    "#Este for está percorrendo todas as anotações de treino\n",
    "for i in range(len(anns['annotations'])):\n",
    "    #Este percorre os ids das imagens\n",
    "    for j in id_image_motorcycle:\n",
    "        #loop para ver se o image_id da anotação corresponde ao id da imagem\n",
    "        if (anns['annotations'][i]['image_id']) == j:\n",
    "            anotacoes = dict(anns['annotations'][i])\n",
    "            train_label_motorcycle.append(anotacoes)\n",
    "      \n",
    "#print(train_label_motorcycle)"
   ]
  },
  {
   "cell_type": "code",
   "execution_count": null,
   "metadata": {},
   "outputs": [],
   "source": [
    "bbox_motorcycle      = {}\n",
    "id_cat_motorcycle    = {}\n",
    "nome_cat_motorcycle  = {}\n",
    "\n",
    "'''\n",
    "  uma imagem possui várias anotações, e elas estão em diferentes lugares do json,\n",
    "  e é possivel identificar qual anotação representa determinada img com o id\n",
    "  por isso será necessário dois \"for\":\n",
    "   - no 1° ele passa pelos id das imagens\n",
    "   - no 2° ele passa pelas anotações \n",
    "  dessa forma é possível deixar todas as informações das imagens juntas\n",
    "'''\n",
    "for id in id_image_motorcycle:\n",
    "  #criando um vetor à cada inicio de um loop\n",
    "  bbox_vetor      = []\n",
    "  id_cat_vetor    = []\n",
    "  nome_cat_vetor  = []\n",
    "\n",
    "  for anot in train_label_motorcycle:\n",
    "    if id == anot['image_id']:\n",
    "      #fazendo um vetor com todos os BBOX da img x\n",
    "      bbox_vetor.append(anot['bbox'])\n",
    "\n",
    "      #fazendo um vetor com todos os IDS DAS CATEGORIAS da img x\n",
    "      id_cat_vetor.append(int(anot['category_id']))\n",
    "      #print(idCategoria)\n",
    "\n",
    "      #fazendo um vetor com todos os NOMES DAS CATEGORIAS da img x\n",
    "    for x in range(len(id_cat_vetor)):\n",
    "      nome_cat_vetor.append(anns['categories'][x-1]['name'])\n",
    " \n",
    "\n",
    "  bbox_motorcycle[id]     = tuple(bbox_vetor)\n",
    "  id_cat_motorcycle[id]   = tuple(id_cat_vetor)\n",
    "  nome_cat_motorcycle[id] = tuple(nome_cat_vetor)\n",
    "\n",
    "\n",
    "print((bbox_motorcycle[74]))\n",
    "print((id_cat_motorcycle[74]))\n",
    "print((nome_cat_motorcycle[74]))"
   ]
  },
  {
   "attachments": {},
   "cell_type": "markdown",
   "metadata": {},
   "source": [
    "# Truck_train"
   ]
  },
  {
   "cell_type": "code",
   "execution_count": null,
   "metadata": {},
   "outputs": [],
   "source": [
    "files = glob.glob(\"./BD/images/train/truck_train/*.jpg\")"
   ]
  },
  {
   "cell_type": "code",
   "execution_count": null,
   "metadata": {},
   "outputs": [],
   "source": [
    "train_image_truck = []\n",
    "filename_truck=[]\n",
    "\n",
    "#utilizando o for para percorrer a pasta truck_train e pegar o nome de cada imagem\n",
    "for myFile in files:\n",
    "    image = cv2.imread(myFile)\n",
    "    #convertendo as imagens para RGB\n",
    "    image = cv2.cvtColor(image, cv2.COLOR_BGR2RGB)\n",
    "    #adicionando a imagem na variável train_image_truck\n",
    "    train_image_truck.append(image)\n",
    "    #adicionando o nome da imagem no filename_truck\n",
    "    filename_truck.append(os.path.basename(myFile))\n",
    "\n",
    "train_image_truck = np.array(train_image_truck, dtype=object)\n",
    "train_image_truck.shape\n",
    "#plt.imshow(train_image_truck[7])\n",
    "print(len(train_image_truck)) "
   ]
  },
  {
   "cell_type": "code",
   "execution_count": null,
   "metadata": {},
   "outputs": [],
   "source": [
    "id_image_truck=[]\n",
    "\n",
    "#fazendo um loop que contem todas as anotações e adicionando em id_image apenas o id da imagem(image_id na anotação json)\n",
    "for i in range(len(anns['images'])):\n",
    "  #vendo todos os file_names de image\n",
    "    filename_truck = (anns['images'][i]['file_name'])\n",
    "\n",
    "    #pegando apenas o id da imagem\n",
    "    for j in filename_truck:\n",
    "      if filename_truck == j:\n",
    "          id_image_truck.append(anns['images'][i]['id'])\n",
    "\n",
    "#print(id_image_truck)  "
   ]
  },
  {
   "cell_type": "code",
   "execution_count": null,
   "metadata": {},
   "outputs": [],
   "source": [
    "train_label_truck= []\n",
    "anotacoes = {}\n",
    "\n",
    "#Este for está percorrendo todas as anotações de treino\n",
    "for i in range(len(anns['annotations'])):\n",
    "    #Este percorre os ids das imagens\n",
    "    for j in id_image_truck:\n",
    "        #loop para ver se o image_id da anotação corresponde ao id da imagem\n",
    "        if (anns['annotations'][i]['image_id']) == j:\n",
    "            anotacoes = dict(anns['annotations'][i])\n",
    "            train_label_truck.append(anotacoes)\n",
    "      \n",
    "#print(train_label_truck)"
   ]
  },
  {
   "cell_type": "code",
   "execution_count": null,
   "metadata": {},
   "outputs": [],
   "source": [
    "bbox_truck       = {}\n",
    "id_cat_truck     = {}\n",
    "nome_cat_truck   = {}\n",
    "\n",
    "'''\n",
    "  uma imagem possui várias anotações, e elas estão em diferentes lugares do json,\n",
    "  e é possivel identificar qual anotação representa determinada img com o id\n",
    "  por isso será necessário dois \"for\":\n",
    "   - no 1° ele passa pelos id das imagens\n",
    "   - no 2° ele passa pelas anotações \n",
    "  dessa forma é possível deixar todas as informações das imagens juntas\n",
    "'''\n",
    "for id in id_image_truck:\n",
    "  #criando um vetor à cada inicio de um loop\n",
    "  bbox_vetor      = []\n",
    "  id_cat_vetor    = []\n",
    "  nome_cat_vetor  = []\n",
    "\n",
    "  for anot in train_label_truck:\n",
    "    if id == anot['image_id']:\n",
    "      #fazendo um vetor com todos os BBOX da img x\n",
    "      bbox_vetor.append(anot['bbox'])\n",
    "\n",
    "      #fazendo um vetor com todos os IDS DAS CATEGORIAS da img x\n",
    "      id_cat_vetor.append(int(anot['category_id']))\n",
    "      #print(idCategoria)\n",
    "\n",
    "      #fazendo um vetor com todos os NOMES DAS CATEGORIAS da img x\n",
    "    for x in range(len(id_cat_vetor)):\n",
    "      nome_cat_vetor.append(anns['categories'][x-1]['name'])\n",
    " \n",
    "\n",
    "  bbox_truck[id]     = tuple(bbox_vetor)\n",
    "  id_cat_truck[id]   = tuple(id_cat_vetor)\n",
    "  nome_cat_truck[id] = tuple(nome_cat_vetor)\n",
    "\n",
    "\n",
    "print((bbox_truck[74]))\n",
    "print((id_cat_truck[74]))\n",
    "print((nome_cat_truck[74]))"
   ]
  },
  {
   "attachments": {},
   "cell_type": "markdown",
   "metadata": {},
   "source": [
    "# Person_train"
   ]
  },
  {
   "cell_type": "code",
   "execution_count": null,
   "metadata": {},
   "outputs": [],
   "source": [
    "files = glob.glob(\"./BD/images/train/person_train/*.jpg\")"
   ]
  },
  {
   "cell_type": "code",
   "execution_count": null,
   "metadata": {},
   "outputs": [],
   "source": [
    "train_image_person = []\n",
    "filename_person=[]\n",
    "\n",
    "#utilizando o for para percorrer a pasta person_train e pegar o nome de cada imagem\n",
    "for myFile in files:\n",
    "    image = cv2.imread(myFile)\n",
    "    #convertendo as imagens para RGB\n",
    "    image = cv2.cvtColor(image, cv2.COLOR_BGR2RGB)\n",
    "    #adicionando a imagem na variável train_image_person\n",
    "    train_image_person.append(image)\n",
    "    #adicionando o nome da imagem no filename_person\n",
    "    filename_person.append(os.path.basename(myFile))\n",
    "\n",
    "train_image_person = np.array(train_image_person, dtype=object)\n",
    "train_image_person.shape\n",
    "#plt.imshow(train_image_person[7])\n",
    "print(len(train_image_person)) "
   ]
  },
  {
   "cell_type": "code",
   "execution_count": null,
   "metadata": {},
   "outputs": [],
   "source": [
    "id_image_person=[]\n",
    "\n",
    "#fazendo um loop que contem todas as anotações e adicionando em id_image apenas o id da imagem(image_id na anotação json)\n",
    "for i in range(len(anns['images'])):\n",
    "  #vendo todos os file_names de image\n",
    "    filename_person = (anns['images'][i]['file_name'])\n",
    "\n",
    "    #pegando apenas o id da imagem\n",
    "    for j in filename_person:\n",
    "      if filename_person == j:\n",
    "          id_image_person.append(anns['images'][i]['id'])\n",
    "\n",
    "#print(id_image_person)  "
   ]
  },
  {
   "cell_type": "code",
   "execution_count": null,
   "metadata": {},
   "outputs": [],
   "source": [
    "train_label_person= []\n",
    "anotacoes = {}\n",
    "\n",
    "#Este for está percorrendo todas as anotações de treino\n",
    "for i in range(len(anns['annotations'])):\n",
    "    #Este percorre os ids das imagens\n",
    "    for j in id_image_person:\n",
    "        #loop para ver se o image_id da anotação corresponde ao id da imagem\n",
    "        if (anns['annotations'][i]['image_id']) == j:\n",
    "            anotacoes = dict(anns['annotations'][i])\n",
    "            train_label_person.append(anotacoes)\n",
    "      \n",
    "#print(train_label_person)"
   ]
  },
  {
   "cell_type": "code",
   "execution_count": null,
   "metadata": {},
   "outputs": [],
   "source": [
    "bbox_person       = {}\n",
    "id_cat_person     = {}\n",
    "nome_cat_person   = {}\n",
    "\n",
    "'''\n",
    "  uma imagem possui várias anotações, e elas estão em diferentes lugares do json,\n",
    "  e é possivel identificar qual anotação representa determinada img com o id\n",
    "  por isso será necessário dois \"for\":\n",
    "   - no 1° ele passa pelos id das imagens\n",
    "   - no 2° ele passa pelas anotações \n",
    "  dessa forma é possível deixar todas as informações das imagens juntas\n",
    "'''\n",
    "for id in id_image_person:\n",
    "  #criando um vetor à cada inicio de um loop\n",
    "  bbox_vetor      = []\n",
    "  id_cat_vetor    = []\n",
    "  nome_cat_vetor  = []\n",
    "\n",
    "  for anot in train_label_person:\n",
    "    if id == anot['image_id']:\n",
    "      #fazendo um vetor com todos os BBOX da img x\n",
    "      bbox_vetor.append(anot['bbox'])\n",
    "\n",
    "      #fazendo um vetor com todos os IDS DAS CATEGORIAS da img x\n",
    "      id_cat_vetor.append(int(anot['category_id']))\n",
    "      #print(idCategoria)\n",
    "\n",
    "      #fazendo um vetor com todos os NOMES DAS CATEGORIAS da img x\n",
    "    for x in range(len(id_cat_vetor)):\n",
    "      nome_cat_vetor.append(anns['categories'][x-1]['name'])\n",
    " \n",
    "\n",
    "  bbox_person[id]     = tuple(bbox_vetor)\n",
    "  id_cat_person[id]   = tuple(id_cat_vetor)\n",
    "  nome_cat_person[id] = tuple(nome_cat_vetor)\n",
    "\n",
    "\n",
    "print((bbox_person[74]))\n",
    "print((id_cat_person[74]))\n",
    "print((nome_cat_person[74]))"
   ]
  },
  {
   "cell_type": "code",
   "execution_count": null,
   "metadata": {},
   "outputs": [],
   "source": []
  }
 ],
 "metadata": {
  "kernelspec": {
   "display_name": "base",
   "language": "python",
   "name": "python3"
  },
  "language_info": {
   "codemirror_mode": {
    "name": "ipython",
    "version": 3
   },
   "file_extension": ".py",
   "mimetype": "text/x-python",
   "name": "python",
   "nbconvert_exporter": "python",
   "pygments_lexer": "ipython3",
   "version": "3.9.15"
  },
  "orig_nbformat": 4,
  "vscode": {
   "interpreter": {
    "hash": "4353fbf72b161d5ba7a793658bbbc0add183c497f110a7b2ffe6a264ae6e91a9"
   }
  }
 },
 "nbformat": 4,
 "nbformat_minor": 2
}
